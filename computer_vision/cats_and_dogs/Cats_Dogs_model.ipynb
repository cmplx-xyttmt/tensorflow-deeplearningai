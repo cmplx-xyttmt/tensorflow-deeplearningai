{
 "cells": [
  {
   "cell_type": "code",
   "execution_count": 1,
   "id": "44492985-2b07-49c6-8fb0-f94252fc74b4",
   "metadata": {},
   "outputs": [],
   "source": [
    "import os\n",
    "import sys\n",
    "module_path = os.path.abspath(os.path.join('../..'))\n",
    "if module_path not in sys.path:\n",
    "    sys.path.append(module_path)"
   ]
  },
  {
   "cell_type": "code",
   "execution_count": 2,
   "id": "48fd8279-680a-4899-8c2c-225b51c287f5",
   "metadata": {},
   "outputs": [
    {
     "name": "stdout",
     "output_type": "stream",
     "text": [
      "/home/iowomugisha/Projects/tensorflow-deeplearningai\n"
     ]
    }
   ],
   "source": [
    "import os\n",
    "from data_utils import get_train_and_validation_directories, ROOT_DIR"
   ]
  },
  {
   "cell_type": "code",
   "execution_count": 5,
   "id": "c59c75bb-123e-417c-bdda-8ef0655047a0",
   "metadata": {},
   "outputs": [
    {
     "name": "stdout",
     "output_type": "stream",
     "text": [
      "Training Directory: /home/iowomugisha/Projects/tensorflow-deeplearningai/computer_vision/cats_and_dogs/data/cats_and_dogs_filtered/train\n",
      "Validation Directory: /home/iowomugisha/Projects/tensorflow-deeplearningai/computer_vision/cats_and_dogs/data/cats_and_dogs_filtered/validation\n"
     ]
    }
   ],
   "source": [
    "train_dir, validation_dir = get_train_and_validation_directories()\n",
    "print(f\"Training Directory: {train_dir}\")\n",
    "print(f\"Validation Directory: {validation_dir}\")"
   ]
  },
  {
   "cell_type": "code",
   "execution_count": null,
   "id": "53e75785-a8ba-443f-9634-8df1d2a17da6",
   "metadata": {},
   "outputs": [],
   "source": []
  }
 ],
 "metadata": {
  "kernelspec": {
   "display_name": "Python 3 (ipykernel)",
   "language": "python",
   "name": "python3"
  },
  "language_info": {
   "codemirror_mode": {
    "name": "ipython",
    "version": 3
   },
   "file_extension": ".py",
   "mimetype": "text/x-python",
   "name": "python",
   "nbconvert_exporter": "python",
   "pygments_lexer": "ipython3",
   "version": "3.8.10"
  },
  "toc-autonumbering": true
 },
 "nbformat": 4,
 "nbformat_minor": 5
}
